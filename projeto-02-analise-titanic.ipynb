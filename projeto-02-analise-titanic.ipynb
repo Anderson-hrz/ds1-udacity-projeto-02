{
 "cells": [
  {
   "cell_type": "markdown",
   "metadata": {},
   "source": [
    "# Análise de dados do Titanic\n",
    "## 1. Introdução\n",
    "\n",
    "### Sobre o conjunto de dados\n",
    "O conjunto de dados utilizado foi obtido do site Kaggle.com, onde analisaremos 891 registros de passageiros do navio, para entender a quantidade de sobreviventes, mortos e os possíveis fatores que contribuíram para os resultados do evento.\n",
    "\n",
    "### O que buscamos descobrir com essa análise?\n",
    "\n",
    "Entre os dados obtidos dos passageiros, buscamos responder às seguintes questões:\n",
    "\n",
    "1. Qual a quantidade de passageiros do sexo masculino e feminino no navio? \n",
    "2. Qual a quantidade de sobreviventes e mortos entre homens e mulheres?\n",
    "3. Qual a média de idade dos sobreviventes?\n",
    "4. Qual a média de idade daqueles que não sobreviveram?\n",
    "5. A quantidade de sobreviventes por gênero indica alguma prioridade no salvamento para algum grupo?\n",
    "6. Qual a quantidade de sobreviventes e mortos entre crianças (menores de 12 anos)?\n",
    "7. O gênero para crianças fazia diferença na hora do salvamento?\n",
    "8. Crianças tinham mais chance de salvamento que os adultos?\n",
    "9. A classe social, analisando a classe do ticket, contribuiu para o salvamento dos passageiros mais ricos?\n",
    "10. Passageiros que viajavam sozinhos, sem a companhia de familiares, tiveram maior chance - e sobreviveram - ao desastre?\n",
    "11. Entre os mortos dos passageiros que viajavam sozinhos, houve alguma característica para que as chances de salvamento diminuíssem?"
   ]
  },
  {
   "cell_type": "markdown",
   "metadata": {},
   "source": [
    "## 2. Limpeza dos dados\n",
    "Iremos importar o dataset, fazer uma exploração nos dados e começar a entender quais limpezas e preparações precisam ser feitas."
   ]
  },
  {
   "cell_type": "code",
   "execution_count": 1,
   "metadata": {},
   "outputs": [
    {
     "name": "stdout",
     "output_type": "stream",
     "text": [
      "<class 'pandas.core.frame.DataFrame'>\n",
      "RangeIndex: 891 entries, 0 to 890\n",
      "Data columns (total 12 columns):\n",
      "PassengerId    891 non-null int64\n",
      "Survived       891 non-null int64\n",
      "Pclass         891 non-null int64\n",
      "Name           891 non-null object\n",
      "Sex            891 non-null object\n",
      "Age            714 non-null float64\n",
      "SibSp          891 non-null int64\n",
      "Parch          891 non-null int64\n",
      "Ticket         891 non-null object\n",
      "Fare           891 non-null float64\n",
      "Cabin          204 non-null object\n",
      "Embarked       889 non-null object\n",
      "dtypes: float64(2), int64(5), object(5)\n",
      "memory usage: 83.6+ KB\n"
     ]
    }
   ],
   "source": [
    "# Importando o pandas, matplotlib e lendo o arquivo .csv\n",
    "import numpy as np\n",
    "import pandas as pd\n",
    "import matplotlib.pyplot as plt\n",
    "\n",
    "ds_titanic = pd.read_csv('titanic-data-6.csv')\n",
    "\n",
    "# Verificando o estado dos dados e as colunas disponíveis no dataset\n",
    "ds_titanic.info()"
   ]
  },
  {
   "cell_type": "code",
   "execution_count": 2,
   "metadata": {},
   "outputs": [
    {
     "data": {
      "text/html": [
       "<div>\n",
       "<style scoped>\n",
       "    .dataframe tbody tr th:only-of-type {\n",
       "        vertical-align: middle;\n",
       "    }\n",
       "\n",
       "    .dataframe tbody tr th {\n",
       "        vertical-align: top;\n",
       "    }\n",
       "\n",
       "    .dataframe thead th {\n",
       "        text-align: right;\n",
       "    }\n",
       "</style>\n",
       "<table border=\"1\" class=\"dataframe\">\n",
       "  <thead>\n",
       "    <tr style=\"text-align: right;\">\n",
       "      <th></th>\n",
       "      <th>PassengerId</th>\n",
       "      <th>Survived</th>\n",
       "      <th>Pclass</th>\n",
       "      <th>Name</th>\n",
       "      <th>Sex</th>\n",
       "      <th>Age</th>\n",
       "      <th>SibSp</th>\n",
       "      <th>Parch</th>\n",
       "      <th>Ticket</th>\n",
       "      <th>Fare</th>\n",
       "      <th>Cabin</th>\n",
       "      <th>Embarked</th>\n",
       "    </tr>\n",
       "  </thead>\n",
       "  <tbody>\n",
       "    <tr>\n",
       "      <th>0</th>\n",
       "      <td>1</td>\n",
       "      <td>0</td>\n",
       "      <td>3</td>\n",
       "      <td>Braund, Mr. Owen Harris</td>\n",
       "      <td>male</td>\n",
       "      <td>22.0</td>\n",
       "      <td>1</td>\n",
       "      <td>0</td>\n",
       "      <td>A/5 21171</td>\n",
       "      <td>7.2500</td>\n",
       "      <td>NaN</td>\n",
       "      <td>S</td>\n",
       "    </tr>\n",
       "    <tr>\n",
       "      <th>1</th>\n",
       "      <td>2</td>\n",
       "      <td>1</td>\n",
       "      <td>1</td>\n",
       "      <td>Cumings, Mrs. John Bradley (Florence Briggs Th...</td>\n",
       "      <td>female</td>\n",
       "      <td>38.0</td>\n",
       "      <td>1</td>\n",
       "      <td>0</td>\n",
       "      <td>PC 17599</td>\n",
       "      <td>71.2833</td>\n",
       "      <td>C85</td>\n",
       "      <td>C</td>\n",
       "    </tr>\n",
       "    <tr>\n",
       "      <th>2</th>\n",
       "      <td>3</td>\n",
       "      <td>1</td>\n",
       "      <td>3</td>\n",
       "      <td>Heikkinen, Miss. Laina</td>\n",
       "      <td>female</td>\n",
       "      <td>26.0</td>\n",
       "      <td>0</td>\n",
       "      <td>0</td>\n",
       "      <td>STON/O2. 3101282</td>\n",
       "      <td>7.9250</td>\n",
       "      <td>NaN</td>\n",
       "      <td>S</td>\n",
       "    </tr>\n",
       "    <tr>\n",
       "      <th>3</th>\n",
       "      <td>4</td>\n",
       "      <td>1</td>\n",
       "      <td>1</td>\n",
       "      <td>Futrelle, Mrs. Jacques Heath (Lily May Peel)</td>\n",
       "      <td>female</td>\n",
       "      <td>35.0</td>\n",
       "      <td>1</td>\n",
       "      <td>0</td>\n",
       "      <td>113803</td>\n",
       "      <td>53.1000</td>\n",
       "      <td>C123</td>\n",
       "      <td>S</td>\n",
       "    </tr>\n",
       "    <tr>\n",
       "      <th>4</th>\n",
       "      <td>5</td>\n",
       "      <td>0</td>\n",
       "      <td>3</td>\n",
       "      <td>Allen, Mr. William Henry</td>\n",
       "      <td>male</td>\n",
       "      <td>35.0</td>\n",
       "      <td>0</td>\n",
       "      <td>0</td>\n",
       "      <td>373450</td>\n",
       "      <td>8.0500</td>\n",
       "      <td>NaN</td>\n",
       "      <td>S</td>\n",
       "    </tr>\n",
       "    <tr>\n",
       "      <th>5</th>\n",
       "      <td>6</td>\n",
       "      <td>0</td>\n",
       "      <td>3</td>\n",
       "      <td>Moran, Mr. James</td>\n",
       "      <td>male</td>\n",
       "      <td>NaN</td>\n",
       "      <td>0</td>\n",
       "      <td>0</td>\n",
       "      <td>330877</td>\n",
       "      <td>8.4583</td>\n",
       "      <td>NaN</td>\n",
       "      <td>Q</td>\n",
       "    </tr>\n",
       "    <tr>\n",
       "      <th>6</th>\n",
       "      <td>7</td>\n",
       "      <td>0</td>\n",
       "      <td>1</td>\n",
       "      <td>McCarthy, Mr. Timothy J</td>\n",
       "      <td>male</td>\n",
       "      <td>54.0</td>\n",
       "      <td>0</td>\n",
       "      <td>0</td>\n",
       "      <td>17463</td>\n",
       "      <td>51.8625</td>\n",
       "      <td>E46</td>\n",
       "      <td>S</td>\n",
       "    </tr>\n",
       "    <tr>\n",
       "      <th>7</th>\n",
       "      <td>8</td>\n",
       "      <td>0</td>\n",
       "      <td>3</td>\n",
       "      <td>Palsson, Master. Gosta Leonard</td>\n",
       "      <td>male</td>\n",
       "      <td>2.0</td>\n",
       "      <td>3</td>\n",
       "      <td>1</td>\n",
       "      <td>349909</td>\n",
       "      <td>21.0750</td>\n",
       "      <td>NaN</td>\n",
       "      <td>S</td>\n",
       "    </tr>\n",
       "    <tr>\n",
       "      <th>8</th>\n",
       "      <td>9</td>\n",
       "      <td>1</td>\n",
       "      <td>3</td>\n",
       "      <td>Johnson, Mrs. Oscar W (Elisabeth Vilhelmina Berg)</td>\n",
       "      <td>female</td>\n",
       "      <td>27.0</td>\n",
       "      <td>0</td>\n",
       "      <td>2</td>\n",
       "      <td>347742</td>\n",
       "      <td>11.1333</td>\n",
       "      <td>NaN</td>\n",
       "      <td>S</td>\n",
       "    </tr>\n",
       "    <tr>\n",
       "      <th>9</th>\n",
       "      <td>10</td>\n",
       "      <td>1</td>\n",
       "      <td>2</td>\n",
       "      <td>Nasser, Mrs. Nicholas (Adele Achem)</td>\n",
       "      <td>female</td>\n",
       "      <td>14.0</td>\n",
       "      <td>1</td>\n",
       "      <td>0</td>\n",
       "      <td>237736</td>\n",
       "      <td>30.0708</td>\n",
       "      <td>NaN</td>\n",
       "      <td>C</td>\n",
       "    </tr>\n",
       "  </tbody>\n",
       "</table>\n",
       "</div>"
      ],
      "text/plain": [
       "   PassengerId  Survived  Pclass  \\\n",
       "0            1         0       3   \n",
       "1            2         1       1   \n",
       "2            3         1       3   \n",
       "3            4         1       1   \n",
       "4            5         0       3   \n",
       "5            6         0       3   \n",
       "6            7         0       1   \n",
       "7            8         0       3   \n",
       "8            9         1       3   \n",
       "9           10         1       2   \n",
       "\n",
       "                                                Name     Sex   Age  SibSp  \\\n",
       "0                            Braund, Mr. Owen Harris    male  22.0      1   \n",
       "1  Cumings, Mrs. John Bradley (Florence Briggs Th...  female  38.0      1   \n",
       "2                             Heikkinen, Miss. Laina  female  26.0      0   \n",
       "3       Futrelle, Mrs. Jacques Heath (Lily May Peel)  female  35.0      1   \n",
       "4                           Allen, Mr. William Henry    male  35.0      0   \n",
       "5                                   Moran, Mr. James    male   NaN      0   \n",
       "6                            McCarthy, Mr. Timothy J    male  54.0      0   \n",
       "7                     Palsson, Master. Gosta Leonard    male   2.0      3   \n",
       "8  Johnson, Mrs. Oscar W (Elisabeth Vilhelmina Berg)  female  27.0      0   \n",
       "9                Nasser, Mrs. Nicholas (Adele Achem)  female  14.0      1   \n",
       "\n",
       "   Parch            Ticket     Fare Cabin Embarked  \n",
       "0      0         A/5 21171   7.2500   NaN        S  \n",
       "1      0          PC 17599  71.2833   C85        C  \n",
       "2      0  STON/O2. 3101282   7.9250   NaN        S  \n",
       "3      0            113803  53.1000  C123        S  \n",
       "4      0            373450   8.0500   NaN        S  \n",
       "5      0            330877   8.4583   NaN        Q  \n",
       "6      0             17463  51.8625   E46        S  \n",
       "7      1            349909  21.0750   NaN        S  \n",
       "8      2            347742  11.1333   NaN        S  \n",
       "9      0            237736  30.0708   NaN        C  "
      ]
     },
     "execution_count": 2,
     "metadata": {},
     "output_type": "execute_result"
    }
   ],
   "source": [
    "# Explorando uma primeira fatia dos dados contidos no dataset\n",
    "ds_titanic.head(10)"
   ]
  },
  {
   "cell_type": "code",
   "execution_count": 3,
   "metadata": {},
   "outputs": [
    {
     "name": "stdout",
     "output_type": "stream",
     "text": [
      "<class 'pandas.core.frame.DataFrame'>\n",
      "RangeIndex: 891 entries, 0 to 890\n",
      "Data columns (total 12 columns):\n",
      "PassengerId    891 non-null int64\n",
      "Survived       891 non-null int64\n",
      "Pclass         891 non-null int64\n",
      "Name           891 non-null object\n",
      "Sex            891 non-null object\n",
      "Age            891 non-null float64\n",
      "SibSp          891 non-null int64\n",
      "Parch          891 non-null int64\n",
      "Ticket         891 non-null object\n",
      "Fare           891 non-null float64\n",
      "Cabin          204 non-null object\n",
      "Embarked       889 non-null object\n",
      "dtypes: float64(2), int64(5), object(5)\n",
      "memory usage: 83.6+ KB\n"
     ]
    }
   ],
   "source": [
    "# Usando a média para completar a coluna de idade (Age)\n",
    "mean_age = ds_titanic['Age'].mean()\n",
    "ds_titanic['Age'].fillna(mean_age, inplace=True)\n",
    "\n",
    "# Verificando se a modificação funcionou\n",
    "ds_titanic.info()"
   ]
  },
  {
   "cell_type": "code",
   "execution_count": 4,
   "metadata": {},
   "outputs": [],
   "source": [
    "# Apagando as colunas \"Cabin\", \"Embarked\" e \"Ticket\", já que elas não são interessantes para nossa análise\n",
    "ds_titanic.drop(['Cabin', 'Embarked', 'Ticket'], axis=1, inplace=True)"
   ]
  },
  {
   "cell_type": "code",
   "execution_count": 5,
   "metadata": {},
   "outputs": [
    {
     "name": "stdout",
     "output_type": "stream",
     "text": [
      "<class 'pandas.core.frame.DataFrame'>\n",
      "RangeIndex: 891 entries, 0 to 890\n",
      "Data columns (total 9 columns):\n",
      "PassengerId    891 non-null int64\n",
      "Survived       891 non-null int64\n",
      "Pclass         891 non-null int64\n",
      "Name           891 non-null object\n",
      "Sex            891 non-null object\n",
      "Age            891 non-null float64\n",
      "SibSp          891 non-null int64\n",
      "Parch          891 non-null int64\n",
      "Fare           891 non-null float64\n",
      "dtypes: float64(2), int64(5), object(2)\n",
      "memory usage: 62.7+ KB\n"
     ]
    }
   ],
   "source": [
    "# Verificando, novamente, o estado dos dados e as colunas disponíveis no dataset\n",
    "ds_titanic.info()"
   ]
  },
  {
   "cell_type": "code",
   "execution_count": 6,
   "metadata": {},
   "outputs": [
    {
     "data": {
      "text/html": [
       "<div>\n",
       "<style scoped>\n",
       "    .dataframe tbody tr th:only-of-type {\n",
       "        vertical-align: middle;\n",
       "    }\n",
       "\n",
       "    .dataframe tbody tr th {\n",
       "        vertical-align: top;\n",
       "    }\n",
       "\n",
       "    .dataframe thead th {\n",
       "        text-align: right;\n",
       "    }\n",
       "</style>\n",
       "<table border=\"1\" class=\"dataframe\">\n",
       "  <thead>\n",
       "    <tr style=\"text-align: right;\">\n",
       "      <th></th>\n",
       "      <th>PassengerId</th>\n",
       "      <th>Survived</th>\n",
       "      <th>Pclass</th>\n",
       "      <th>Name</th>\n",
       "      <th>Sex</th>\n",
       "      <th>Age</th>\n",
       "      <th>SibSp</th>\n",
       "      <th>Parch</th>\n",
       "      <th>Fare</th>\n",
       "    </tr>\n",
       "  </thead>\n",
       "  <tbody>\n",
       "    <tr>\n",
       "      <th>0</th>\n",
       "      <td>1</td>\n",
       "      <td>0</td>\n",
       "      <td>3</td>\n",
       "      <td>Braund, Mr. Owen Harris</td>\n",
       "      <td>male</td>\n",
       "      <td>22.0</td>\n",
       "      <td>1</td>\n",
       "      <td>0</td>\n",
       "      <td>7.2500</td>\n",
       "    </tr>\n",
       "    <tr>\n",
       "      <th>1</th>\n",
       "      <td>2</td>\n",
       "      <td>1</td>\n",
       "      <td>1</td>\n",
       "      <td>Cumings, Mrs. John Bradley (Florence Briggs Th...</td>\n",
       "      <td>female</td>\n",
       "      <td>38.0</td>\n",
       "      <td>1</td>\n",
       "      <td>0</td>\n",
       "      <td>71.2833</td>\n",
       "    </tr>\n",
       "    <tr>\n",
       "      <th>2</th>\n",
       "      <td>3</td>\n",
       "      <td>1</td>\n",
       "      <td>3</td>\n",
       "      <td>Heikkinen, Miss. Laina</td>\n",
       "      <td>female</td>\n",
       "      <td>26.0</td>\n",
       "      <td>0</td>\n",
       "      <td>0</td>\n",
       "      <td>7.9250</td>\n",
       "    </tr>\n",
       "    <tr>\n",
       "      <th>3</th>\n",
       "      <td>4</td>\n",
       "      <td>1</td>\n",
       "      <td>1</td>\n",
       "      <td>Futrelle, Mrs. Jacques Heath (Lily May Peel)</td>\n",
       "      <td>female</td>\n",
       "      <td>35.0</td>\n",
       "      <td>1</td>\n",
       "      <td>0</td>\n",
       "      <td>53.1000</td>\n",
       "    </tr>\n",
       "    <tr>\n",
       "      <th>4</th>\n",
       "      <td>5</td>\n",
       "      <td>0</td>\n",
       "      <td>3</td>\n",
       "      <td>Allen, Mr. William Henry</td>\n",
       "      <td>male</td>\n",
       "      <td>35.0</td>\n",
       "      <td>0</td>\n",
       "      <td>0</td>\n",
       "      <td>8.0500</td>\n",
       "    </tr>\n",
       "  </tbody>\n",
       "</table>\n",
       "</div>"
      ],
      "text/plain": [
       "   PassengerId  Survived  Pclass  \\\n",
       "0            1         0       3   \n",
       "1            2         1       1   \n",
       "2            3         1       3   \n",
       "3            4         1       1   \n",
       "4            5         0       3   \n",
       "\n",
       "                                                Name     Sex   Age  SibSp  \\\n",
       "0                            Braund, Mr. Owen Harris    male  22.0      1   \n",
       "1  Cumings, Mrs. John Bradley (Florence Briggs Th...  female  38.0      1   \n",
       "2                             Heikkinen, Miss. Laina  female  26.0      0   \n",
       "3       Futrelle, Mrs. Jacques Heath (Lily May Peel)  female  35.0      1   \n",
       "4                           Allen, Mr. William Henry    male  35.0      0   \n",
       "\n",
       "   Parch     Fare  \n",
       "0      0   7.2500  \n",
       "1      0  71.2833  \n",
       "2      0   7.9250  \n",
       "3      0  53.1000  \n",
       "4      0   8.0500  "
      ]
     },
     "execution_count": 6,
     "metadata": {},
     "output_type": "execute_result"
    }
   ],
   "source": [
    "# Verificando, novamente, o estado dos dados e as colunas disponíveis no dataset\n",
    "ds_titanic.head()"
   ]
  },
  {
   "cell_type": "code",
   "execution_count": 7,
   "metadata": {},
   "outputs": [],
   "source": [
    "# Renomeando o nome das colunas para dar maior clareza na hora da análise\n",
    "\n",
    "ds_titanic.rename(index=str, \n",
    "                  columns={\"Pclass\": \"Ticket_Class\", \n",
    "                           \"SibSp\": \"Number_siblings_spouses\", \n",
    "                           \"Parch\": \"Number_parent_children\"}, \n",
    "                  inplace=True)"
   ]
  },
  {
   "cell_type": "code",
   "execution_count": 8,
   "metadata": {},
   "outputs": [
    {
     "data": {
      "text/html": [
       "<div>\n",
       "<style scoped>\n",
       "    .dataframe tbody tr th:only-of-type {\n",
       "        vertical-align: middle;\n",
       "    }\n",
       "\n",
       "    .dataframe tbody tr th {\n",
       "        vertical-align: top;\n",
       "    }\n",
       "\n",
       "    .dataframe thead th {\n",
       "        text-align: right;\n",
       "    }\n",
       "</style>\n",
       "<table border=\"1\" class=\"dataframe\">\n",
       "  <thead>\n",
       "    <tr style=\"text-align: right;\">\n",
       "      <th></th>\n",
       "      <th>PassengerId</th>\n",
       "      <th>Survived</th>\n",
       "      <th>Ticket_Class</th>\n",
       "      <th>Name</th>\n",
       "      <th>Sex</th>\n",
       "      <th>Age</th>\n",
       "      <th>Number_siblings_spouses</th>\n",
       "      <th>Number_parent_children</th>\n",
       "      <th>Fare</th>\n",
       "    </tr>\n",
       "  </thead>\n",
       "  <tbody>\n",
       "    <tr>\n",
       "      <th>0</th>\n",
       "      <td>1</td>\n",
       "      <td>0</td>\n",
       "      <td>3</td>\n",
       "      <td>Braund, Mr. Owen Harris</td>\n",
       "      <td>male</td>\n",
       "      <td>22.0</td>\n",
       "      <td>1</td>\n",
       "      <td>0</td>\n",
       "      <td>7.2500</td>\n",
       "    </tr>\n",
       "    <tr>\n",
       "      <th>1</th>\n",
       "      <td>2</td>\n",
       "      <td>1</td>\n",
       "      <td>1</td>\n",
       "      <td>Cumings, Mrs. John Bradley (Florence Briggs Th...</td>\n",
       "      <td>female</td>\n",
       "      <td>38.0</td>\n",
       "      <td>1</td>\n",
       "      <td>0</td>\n",
       "      <td>71.2833</td>\n",
       "    </tr>\n",
       "    <tr>\n",
       "      <th>2</th>\n",
       "      <td>3</td>\n",
       "      <td>1</td>\n",
       "      <td>3</td>\n",
       "      <td>Heikkinen, Miss. Laina</td>\n",
       "      <td>female</td>\n",
       "      <td>26.0</td>\n",
       "      <td>0</td>\n",
       "      <td>0</td>\n",
       "      <td>7.9250</td>\n",
       "    </tr>\n",
       "    <tr>\n",
       "      <th>3</th>\n",
       "      <td>4</td>\n",
       "      <td>1</td>\n",
       "      <td>1</td>\n",
       "      <td>Futrelle, Mrs. Jacques Heath (Lily May Peel)</td>\n",
       "      <td>female</td>\n",
       "      <td>35.0</td>\n",
       "      <td>1</td>\n",
       "      <td>0</td>\n",
       "      <td>53.1000</td>\n",
       "    </tr>\n",
       "    <tr>\n",
       "      <th>4</th>\n",
       "      <td>5</td>\n",
       "      <td>0</td>\n",
       "      <td>3</td>\n",
       "      <td>Allen, Mr. William Henry</td>\n",
       "      <td>male</td>\n",
       "      <td>35.0</td>\n",
       "      <td>0</td>\n",
       "      <td>0</td>\n",
       "      <td>8.0500</td>\n",
       "    </tr>\n",
       "  </tbody>\n",
       "</table>\n",
       "</div>"
      ],
      "text/plain": [
       "   PassengerId  Survived  Ticket_Class  \\\n",
       "0            1         0             3   \n",
       "1            2         1             1   \n",
       "2            3         1             3   \n",
       "3            4         1             1   \n",
       "4            5         0             3   \n",
       "\n",
       "                                                Name     Sex   Age  \\\n",
       "0                            Braund, Mr. Owen Harris    male  22.0   \n",
       "1  Cumings, Mrs. John Bradley (Florence Briggs Th...  female  38.0   \n",
       "2                             Heikkinen, Miss. Laina  female  26.0   \n",
       "3       Futrelle, Mrs. Jacques Heath (Lily May Peel)  female  35.0   \n",
       "4                           Allen, Mr. William Henry    male  35.0   \n",
       "\n",
       "   Number_siblings_spouses  Number_parent_children     Fare  \n",
       "0                        1                       0   7.2500  \n",
       "1                        1                       0  71.2833  \n",
       "2                        0                       0   7.9250  \n",
       "3                        1                       0  53.1000  \n",
       "4                        0                       0   8.0500  "
      ]
     },
     "execution_count": 8,
     "metadata": {},
     "output_type": "execute_result"
    }
   ],
   "source": [
    "# Verificando, novamente, o estado dos dados e as colunas disponíveis no dataset\n",
    "ds_titanic.head()"
   ]
  },
  {
   "cell_type": "code",
   "execution_count": 9,
   "metadata": {},
   "outputs": [
    {
     "data": {
      "text/plain": [
       "0"
      ]
     },
     "execution_count": 9,
     "metadata": {},
     "output_type": "execute_result"
    }
   ],
   "source": [
    "# Verificando se há dados duplicados\n",
    "sum(ds_titanic.duplicated())"
   ]
  },
  {
   "cell_type": "markdown",
   "metadata": {},
   "source": [
    "## 3. Análise dos dados\n",
    "Com o dataset limpo e preparado, podemos começar a responder às perguntas sobre os passageiros e o desastre, conforme listados a seguir:"
   ]
  },
  {
   "cell_type": "markdown",
   "metadata": {},
   "source": [
    "### 1. Qual a quantidade de passageiros do sexo masculino e feminino no navio?"
   ]
  },
  {
   "cell_type": "code",
   "execution_count": 10,
   "metadata": {},
   "outputs": [
    {
     "data": {
      "image/png": "[encoded data removed]",
      "text/plain": [
       "<matplotlib.figure.Figure at 0x110c34c18>"
      ]
     },
     "metadata": {},
     "output_type": "display_data"
    }
   ],
   "source": [
    "# Verificando o total de homens e mulheres presentes no dataset, independente da idade\n",
    "total_male_passengers = ds_titanic[(ds_titanic.Sex == 'male')]['PassengerId'].count()\n",
    "total_female_passengers = ds_titanic[(ds_titanic.Sex == 'female')]['PassengerId'].count()\n",
    "\n",
    "# Atribuindo para a lista com a finalidade de desenhar o gráfico\n",
    "total_passengers = [total_male_passengers, total_female_passengers]\n",
    "\n",
    "# Definindo os detalhes visuais do gráfico\n",
    "passenger_labels = ['Homens', 'Mulheres']\n",
    "passenger_colors = ['lightskyblue', 'pink']\n",
    "passenger_labels_pos = [0,3]\n",
    "\n",
    "# Desenhando o gráfico\n",
    "plt.pie(total_passengers, labels=passenger_labels, autopct='%1.1f%%', colors=passenger_colors)\n",
    "plt.axis('equal')\n",
    "plt.title('DIVISÃO DE GÊNERO DOS PASSAGEIROS DO TITANIC \\n Baseado em ' + str(total_male_passengers +\n",
    "                                                                              total_female_passengers) + ' registros')\n",
    "plt.show()"
   ]
  },
  {
   "cell_type": "markdown",
   "metadata": {},
   "source": [
    "### 2. Qual a quantidade de sobreviventes e mortos entre homens e mulheres?"
   ]
  },
  {
   "cell_type": "code",
   "execution_count": 11,
   "metadata": {},
   "outputs": [],
   "source": [
    "# Descobrindo o total de mortos e sobreviventes para cada gênero\n",
    "total_male_survived = ds_titanic.query('Sex == \"male\" and Survived == 1')['PassengerId'].count()\n",
    "total_male_died = ds_titanic.query('Sex == \"male\" and Survived == 0')['PassengerId'].count()\n",
    "total_female_survived = ds_titanic.query('Sex == \"female\" and Survived == 1')['PassengerId'].count()\n",
    "total_female_died = ds_titanic.query('Sex == \"female\" and Survived == 0')['PassengerId'].count()\n",
    "\n",
    "# Atribuindo os valores descobertos para uma lista, que será usada no gráfico\n",
    "total_passenger_values = [total_male_survived, total_male_died, total_female_survived, total_female_died]"
   ]
  },
  {
   "cell_type": "code",
   "execution_count": 12,
   "metadata": {},
   "outputs": [
    {
     "data": {
      "image/png": "[encoded data removed]",
      "text/plain": [
       "<matplotlib.figure.Figure at 0x10f993128>"
      ]
     },
     "metadata": {},
     "output_type": "display_data"
    }
   ],
   "source": [
    "# Definindo as legendas para cada item, além de seu posicionamento no gráfico\n",
    "passenger_labels = ['# Homens \\nSobreviventes', '# Homens \\nMortos', '# Mulheres \\nSobreviventes', '# Mulheres \\nMortas']\n",
    "passenger_labels_pos = [0,4,8,12]\n",
    "\n",
    "# Desenhando o gráfico para visualizar os sobreviventes e mortos de cada gênero\n",
    "plt.bar(passenger_labels_pos, total_passenger_values, width=2, color=('b','r'))\n",
    "\n",
    "plt.xticks(passenger_labels_pos, passenger_labels, fontsize=9)\n",
    "plt.yticks(total_passenger_values)\n",
    "plt.xlabel('\\nESTADO DO PASSAGEIRO')\n",
    "plt.ylabel('NÚMERO DE MORTES POR GÊNERO')\n",
    "plt.title('SOBREVIVENTES E MORTOS DO TITANIC \\n Baseado em ' + str(total_male_survived +\n",
    "                                                                      total_male_died +\n",
    "                                                                      total_female_survived +\n",
    "                                                                      total_female_died) + ' registros')\n",
    "plt.show()"
   ]
  },
  {
   "cell_type": "markdown",
   "metadata": {},
   "source": [
    "### 6. Qual a quantidade de sobreviventes e mortos entre crianças (menores de 12 anos)?"
   ]
  },
  {
   "cell_type": "code",
   "execution_count": 13,
   "metadata": {},
   "outputs": [],
   "source": [
    "# Descobrindo o total de crianças que sobreviveram ou não\n",
    "total_children_survived = ds_titanic.query('Age <= 12.0 and Survived == 1')['PassengerId'].count()\n",
    "total_children_died = ds_titanic.query('Age <= 12.0 and Survived == 0')['PassengerId'].count()\n",
    "\n",
    "# Atribuindo os valores descobertos para uma lista, que será usada no gráfico\n",
    "total_children_values = [total_children_survived, total_children_died]"
   ]
  },
  {
   "cell_type": "code",
   "execution_count": 14,
   "metadata": {},
   "outputs": [
    {
     "data": {
      "image/png": "[encoded data removed]",
      "text/plain": [
       "<matplotlib.figure.Figure at 0x11d33ea90>"
      ]
     },
     "metadata": {},
     "output_type": "display_data"
    }
   ],
   "source": [
    "# Definindo as legendas para cada item, além de seu posicionamento no gráfico\n",
    "children_labels = ['# Crianças sobreviventes', '# Crianças mortas']\n",
    "children_labels_pos = [0,3]\n",
    "\n",
    "# Desenhando o gráfico para visualizar os sobreviventes e mortos de cada gênero\n",
    "plt.bar(children_labels_pos, total_children_values, width=2, color=('b','r'))\n",
    "plt.xticks(children_labels_pos, children_labels, fontsize=9)\n",
    "plt.yticks(total_children_values)\n",
    "plt.xlabel('\\nESTADO DAS CRIANÇAS')\n",
    "plt.ylabel('TOTAL SOBREVIVENTES E MORTAS')\n",
    "plt.title('CRIANÇAS SOBREVIVENTES E MORTAS DO TITANIC \\n Baseado em ' + str(total_children_survived +\n",
    "                                                                      total_children_died) + ' registros')\n",
    "plt.show()"
   ]
  },
  {
   "cell_type": "markdown",
   "metadata": {},
   "source": [
    "### 7. O gênero para crianças fazia diferença na hora do salvamento?"
   ]
  },
  {
   "cell_type": "code",
   "execution_count": 15,
   "metadata": {},
   "outputs": [],
   "source": [
    "# Descobrindo o total de mortos e sobreviventes para cada gênero (considerando apenas crianças)\n",
    "total_boys_survived = ds_titanic.query('Age <= 12.0 and Survived == 1 and Sex == \"male\"')['PassengerId'].count()\n",
    "total_boys_died = ds_titanic.query('Age <= 12.0 and Survived == 0 and Sex == \"male\"')['PassengerId'].count()\n",
    "total_girls_survived = ds_titanic.query('Age <= 12.0 and Survived == 1 and Sex == \"female\"')['PassengerId'].count()\n",
    "total_girls_died = ds_titanic.query('Age <= 12.0 and Survived == 0 and Sex == \"female\"')['PassengerId'].count()\n",
    "\n",
    "# Atribuindo os valores descobertos para uma lista, que será usada no gráfico\n",
    "total_children_values = [total_boys_survived, total_boys_died, total_girls_survived, total_girls_died]"
   ]
  },
  {
   "cell_type": "code",
   "execution_count": 16,
   "metadata": {},
   "outputs": [
    {
     "data": {
      "image/png": "[encoded data removed]",
      "text/plain": [
       "<matplotlib.figure.Figure at 0x11d383358>"
      ]
     },
     "metadata": {},
     "output_type": "display_data"
    }
   ],
   "source": [
    "# Definindo as legendas para cada item, além de seu posicionamento no gráfico\n",
    "children_labels = ['# Meninos \\nSobreviventes', '# Meninos \\nMortos', '# Meninas \\nSobreviventes', '# Meninas \\nMortas']\n",
    "children_labels_pos = [0,4,8,12]\n",
    "\n",
    "# Desenhando o gráfico para visualizar os sobreviventes e mortos de cada gênero\n",
    "plt.bar(children_labels_pos, total_children_values, width=2, color=('b','r'))\n",
    "plt.xticks(children_labels_pos, children_labels, fontsize=9)\n",
    "plt.yticks(total_children_values)\n",
    "plt.xlabel('\\nESTADO DAS CRIANÇAS')\n",
    "plt.ylabel('TOTAL DE SOBREVIVENTES E MORTOS')\n",
    "plt.title('CRIANÇAS SOBREVIVENTES E MORTAS DO TITANIC \\n Baseado em ' + str(total_boys_survived +\n",
    "                                                                      total_boys_died +\n",
    "                                                                      total_girls_survived +\n",
    "                                                                      total_girls_died) + \n",
    "                                                                      ' registros, divididos por gênero e estado')\n",
    "plt.show()"
   ]
  },
  {
   "cell_type": "markdown",
   "metadata": {},
   "source": [
    "### 8. Crianças tinham mais chance de salvamento que os adultos?"
   ]
  },
  {
   "cell_type": "code",
   "execution_count": 17,
   "metadata": {},
   "outputs": [
    {
     "data": {
      "image/png": "[encoded data removed]",
      "text/plain": [
       "<matplotlib.figure.Figure at 0x1145aa710>"
      ]
     },
     "metadata": {},
     "output_type": "display_data"
    }
   ],
   "source": [
    "# Recuperando o total de crianças, mulheres adultas e homens adultos\n",
    "total_children = ds_titanic.query('Age <= 12')['Age'].count()\n",
    "total_female = ds_titanic.query('Age > 12 and Sex == \"female\"')['PassengerId'].count()\n",
    "total_male = ds_titanic.query('Age > 12 and Sex == \"male\"')['PassengerId'].count()\n",
    "\n",
    "# Descobrindo o percentual de crianças, mulheres e homens que sobreviveram em relação ao total de cada grupo\n",
    "children_perc = total_children_survived / total_children * 100\n",
    "male_perc = total_female_survived / total_female * 100\n",
    "female_perc = total_male_survived / total_male * 100\n",
    "\n",
    "# Atribuindo os valores obtidos para utilização no gráfico\n",
    "total_people_values = [children_perc, male_perc, female_perc]\n",
    "\n",
    "# Definindo as legendas para cada item, além de seu posicionamento no gráfico\n",
    "people_labels = ['# Crianças \\nSobreviventes', '# Mulheres \\nSobreviventes', '# Homens \\nSobreviventes']\n",
    "people_labels_pos = [0,3,6]\n",
    "\n",
    "# Desenhando o gráfico para visualizar os sobreviventes e mortos de cada gênero\n",
    "plt.bar(people_labels_pos, total_people_values, width=2, color='b')\n",
    "plt.xticks(people_labels_pos, people_labels, fontsize=9)\n",
    "plt.yticks(total_people_values)\n",
    "plt.xlabel('\\nSOBREVIVENTES POR FAIXA DE IDADE E GÊNERO')\n",
    "plt.ylabel('TOTAL DE SOBREVIVENTES \\n(em %)\\n')\n",
    "plt.title('SOBREVIVENTES E MORTOS DO TITANIC \\n Baseado em ' + str(total_male_survived +\n",
    "                                                                      total_male_died +\n",
    "                                                                      total_female_survived +\n",
    "                                                                      total_female_died) + ' registros')\n",
    "plt.show()"
   ]
  },
  {
   "cell_type": "markdown",
   "metadata": {},
   "source": [
    "### 9. A classe social, analisando a classe do ticket, contribuiu para o salvamento dos passageiros mais ricos?"
   ]
  },
  {
   "cell_type": "code",
   "execution_count": 18,
   "metadata": {},
   "outputs": [
    {
     "data": {
      "image/png": "[encoded data removed]",
      "text/plain": [
       "<matplotlib.figure.Figure at 0x11d3b47b8>"
      ]
     },
     "metadata": {},
     "output_type": "display_data"
    }
   ],
   "source": [
    "# Descobrindo o total de sobreviventes por classe\n",
    "total_survivors_first_class = ds_titanic.query('Ticket_Class == 1 and Survived == 1')['PassengerId'].count()\n",
    "total_survivors_second_class = ds_titanic.query('Ticket_Class == 2 and Survived == 1')['PassengerId'].count()\n",
    "total_survivors_third_class = ds_titanic.query('Ticket_Class == 3 and Survived == 1')['PassengerId'].count()\n",
    "\n",
    "# Criando uma tupla para ser usada no gráfico\n",
    "total_survivors_by_class = (total_survivors_first_class, \n",
    "                            total_survivors_second_class, \n",
    "                            total_survivors_third_class)\n",
    "\n",
    "# Descobrindo o total de mortos por classe\n",
    "total_deaths_first_class = ds_titanic.query('Ticket_Class == 1 and Survived == 0')['PassengerId'].count()\n",
    "total_deaths_second_class = ds_titanic.query('Ticket_Class == 2 and Survived == 0')['PassengerId'].count()\n",
    "total_deaths_third_class = ds_titanic.query('Ticket_Class == 3 and Survived == 0')['PassengerId'].count()\n",
    "\n",
    "# Criando uma tupla para ser usada no gráfico\n",
    "total_deaths_by_class = (total_deaths_first_class, \n",
    "                         total_deaths_second_class, \n",
    "                         total_deaths_third_class)\n",
    "\n",
    "# Possibilitando o uso de múltiplos subplots para comparar os itens lado a lado\n",
    "fig, ax = plt.subplots()\n",
    "\n",
    "# Definindo o index de cada grupo, baseando-se na quantidade de grupos necessários no gráfico (3)\n",
    "index = np.arange(3)\n",
    "\n",
    "# Definindo a largura da barra\n",
    "bar_width = 0.35\n",
    "\n",
    "# Desenhando cada barra (e seus dados) nas posições definidas no gráfico\n",
    "ax.bar(index, total_survivors_by_class, bar_width, color='blue',\n",
    "                label='Sobreviventes')\n",
    "ax.bar(index + 0.35, total_deaths_by_class, bar_width, color='red',\n",
    "                label='Mortos')\n",
    "\n",
    "# Definindo as informações do gráfico para fácil entendimento\n",
    "ax.set_xlabel('Classes do Ticket')\n",
    "ax.set_ylabel('Totais de passageiros')\n",
    "ax.set_title('Sobreviventes e Mortos por classe de ticket')\n",
    "ax.set_xticks(index + bar_width / 2)\n",
    "ax.set_xticklabels(('Primeira Classe', 'Segunda Classe', 'Terceira Classe'))\n",
    "ax.legend()\n",
    "\n",
    "# Melhorando o visual do gráfico e gerando ele de fato\n",
    "fig.tight_layout()\n",
    "plt.show()"
   ]
  },
  {
   "cell_type": "markdown",
   "metadata": {},
   "source": [
    "### 10. Passageiros que viajavam sozinhos, sem a companhia de familiares, tiveram maior chance - e sobreviveram - ao desastre?"
   ]
  },
  {
   "cell_type": "code",
   "execution_count": 19,
   "metadata": {},
   "outputs": [],
   "source": [
    "# Descobrindo o total de passageiros com família\n",
    "total_passengers_family = ds_titanic[(ds_titanic.Number_parent_children > 0) |\n",
    "                                     (ds_titanic.Number_siblings_spouses > 0)]['PassengerId'].count()\n",
    "\n",
    "# Descobrindo o número de mortos e sobreviventes que viajavam com família\n",
    "died_with_family = ds_titanic[(ds_titanic.Survived == 0) & \n",
    "                              ((ds_titanic.Number_parent_children > 0) |\n",
    "                              (ds_titanic.Number_siblings_spouses > 0))]['PassengerId'].count()\n",
    "\n",
    "survived_with_family = ds_titanic[(ds_titanic.Survived == 1) &\n",
    "                                  ((ds_titanic.Number_parent_children > 0) |\n",
    "                                  (ds_titanic.Number_siblings_spouses > 0))]['PassengerId'].count()\n",
    "\n",
    "# Atribuindo os resultados para uma lista que será usada na tabela\n",
    "total_passengers_with_family = [died_with_family, survived_with_family]"
   ]
  },
  {
   "cell_type": "code",
   "execution_count": 20,
   "metadata": {},
   "outputs": [
    {
     "data": {
      "image/png": "[encoded data removed]",
      "text/plain": [
       "<matplotlib.figure.Figure at 0x10ed7fc50>"
      ]
     },
     "metadata": {},
     "output_type": "display_data"
    }
   ],
   "source": [
    "# Definindo as legendas para cada item, além de seu posicionamento no gráfico\n",
    "family_labels = ['Mortos com \\nFamília', \n",
    "                 'Sobreviventes com \\nFamília']\n",
    "family_labels_pos = [0,3]\n",
    "\n",
    "# Desenhando o gráfico para visualizar os sobreviventes e mortos de cada gênero\n",
    "plt.bar(family_labels_pos, total_passengers_with_family, width=2, color=('r','b'))\n",
    "plt.xticks(family_labels_pos, family_labels, fontsize=9)\n",
    "plt.yticks(total_passengers_with_family)\n",
    "plt.xlabel('\\nESTADO DOS PASSAGEIROS')\n",
    "plt.ylabel('TOTAL SOBREVIVENTES E MORTOS')\n",
    "plt.title('PASSAGEIROS MORTOS E SOBREVIVENTES COM FAMÍLIA \\n Baseado em ' + str(total_passengers_family) + \n",
    "                                                                            ' registros')\n",
    "plt.show()"
   ]
  },
  {
   "cell_type": "code",
   "execution_count": 21,
   "metadata": {},
   "outputs": [],
   "source": [
    "# Descobrindo o total de passageiros sem família\n",
    "total_alone = ds_titanic[(ds_titanic.Number_parent_children == 0) |\n",
    "                                    (ds_titanic.Number_siblings_spouses == 0)]['PassengerId'].count()\n",
    "\n",
    "alone_deaths = ds_titanic[(ds_titanic.Survived == 0) &\n",
    "                          ((ds_titanic.Number_parent_children == 0) |\n",
    "                          (ds_titanic.Number_siblings_spouses == 0))]['PassengerId'].count()\n",
    "\n",
    "alone_survivors = ds_titanic[(ds_titanic.Survived == 1) & \n",
    "                             ((ds_titanic.Number_parent_children == 0) |\n",
    "                             (ds_titanic.Number_siblings_spouses == 0))]['PassengerId'].count()\n",
    "\n",
    "# Atribuindo os resultados para uma lista que será usada na tabela\n",
    "total_passengers_alone = [alone_deaths, alone_survivors]"
   ]
  },
  {
   "cell_type": "code",
   "execution_count": 22,
   "metadata": {},
   "outputs": [
    {
     "data": {
      "image/png": "[encoded data removed]",
      "text/plain": [
       "<matplotlib.figure.Figure at 0x11d3c3ba8>"
      ]
     },
     "metadata": {},
     "output_type": "display_data"
    }
   ],
   "source": [
    "# Definindo as legendas para cada item, além de seu posicionamento no gráfico\n",
    "family_labels = ['Mortos \\nsozinhos', \n",
    "                 'Sobreviventes \\nsozinhos']\n",
    "family_labels_pos = [0,3]\n",
    "\n",
    "# Desenhando o gráfico para visualizar os sobreviventes e mortos de cada gênero\n",
    "plt.bar(family_labels_pos, total_passengers_alone, width=2, color=('r','b'))\n",
    "plt.xticks(family_labels_pos, family_labels, fontsize=9)\n",
    "plt.yticks(total_passengers_alone)\n",
    "plt.xlabel('\\nESTADO DOS PASSAGEIROS')\n",
    "plt.ylabel('TOTAL SOBREVIVENTES E MORTOS')\n",
    "plt.title('PASSAGEIROS MORTOS E SOBREVIVENTES COM FAMÍLIA \\n Baseado em ' + str(total_alone) + \n",
    "                                                                            ' registros')\n",
    "plt.show()"
   ]
  },
  {
   "cell_type": "markdown",
   "metadata": {},
   "source": [
    "### 11. Entre os mortos dos passageiros que viajavam sozinhos, houve alguma característica para que as chances de salvamento diminuíssem?"
   ]
  },
  {
   "cell_type": "code",
   "execution_count": 23,
   "metadata": {},
   "outputs": [],
   "source": [
    "# Descobrindo o número de mortos do gênero masculino que viajavam sozinhos\n",
    "alone_deaths_male = ds_titanic[(ds_titanic.Survived == 0) &\n",
    "                               (ds_titanic.Sex == 'male') & \n",
    "                               ((ds_titanic.Number_parent_children == 0) |\n",
    "                                (ds_titanic.Number_siblings_spouses == 0))]['PassengerId'].count()\n",
    "\n",
    "# Descobrindo o número de mortos do gênero feminino que viajavam sozinhos\n",
    "alone_deaths_female = ds_titanic[(ds_titanic.Survived == 0) &\n",
    "                               (ds_titanic.Sex == 'female') & \n",
    "                               ((ds_titanic.Number_parent_children == 0) |\n",
    "                                (ds_titanic.Number_siblings_spouses == 0))]['PassengerId'].count()\n",
    "\n",
    "# Atribuindo os resultados para uma lista que será usada na tabela\n",
    "deaths_by_gender_no_family = [alone_deaths_male, alone_deaths_female]"
   ]
  },
  {
   "cell_type": "code",
   "execution_count": 24,
   "metadata": {},
   "outputs": [
    {
     "data": {
      "image/png": "[encoded data removed]",
      "text/plain": [
       "<matplotlib.figure.Figure at 0x11d611a58>"
      ]
     },
     "metadata": {},
     "output_type": "display_data"
    }
   ],
   "source": [
    "# Definindo as legendas para cada item, além de seu posicionamento no gráfico\n",
    "deaths_labels = ['Homens mortos', \n",
    "                 'Mulheres mortas']\n",
    "deaths_labels_pos = [0,3]\n",
    "\n",
    "# Desenhando o gráfico para visualizar os sobreviventes e mortos de cada gênero (que viajavam sozinhos)\n",
    "plt.bar(deaths_labels_pos, deaths_by_gender_no_family, width=2, color='r')\n",
    "plt.xticks(deaths_labels_pos, deaths_labels, fontsize=9)\n",
    "plt.yticks(deaths_by_gender_no_family)\n",
    "plt.xlabel('\\nESTADO DOS PASSAGEIROS')\n",
    "plt.ylabel('TOTAL DE MORTOS')\n",
    "plt.title('MORTOS POR GÊNERO QUE VIAJAVAM SOZINHOS \\n Baseado em ' + str(alone_deaths_male +\n",
    "                                                                         alone_deaths_female) + \n",
    "                                                                         ' registros')\n",
    "plt.show()"
   ]
  },
  {
   "cell_type": "markdown",
   "metadata": {},
   "source": [
    "## 5. Conclusões\n",
    "Com isso, concluímos nossa análise e chegamos nas seguintes conclusões:\n",
    "\n",
    "1. Crianças e Mulheres tiveram prioridade no salvamento;\n",
    "2. Pessoas da terceira classe morreram mais, seja por existirem em maior número (o que aumenta as chances) ou pela posição das cabines dentro do navio - nesse último caso, não temos como confirmar a hipótese. Também não podemos ignorar que pessoas de maior poder aquisitivo PODIAM ter prioridade no salvamento;\n",
    "3. Homens que viajavam sozinhos morreram mais, por falta de prioridade no salvamento por conta do gênero e também por representarem um maior número, o que aumenta estatisticamente as chances."
   ]
  },
  {
   "cell_type": "markdown",
   "metadata": {},
   "source": [
    "## 6. Limitações"
   ]
  },
  {
   "cell_type": "code",
   "execution_count": null,
   "metadata": {},
   "outputs": [],
   "source": []
  }
 ],
 "metadata": {
  "kernelspec": {
   "display_name": "Python 3",
   "language": "python",
   "name": "python3"
  },
  "language_info": {
   "codemirror_mode": {
    "name": "ipython",
    "version": 3
   },
   "file_extension": ".py",
   "mimetype": "text/x-python",
   "name": "python",
   "nbconvert_exporter": "python",
   "pygments_lexer": "ipython3",
   "version": "3.6.4"
  }
 },
 "nbformat": 4,
 "nbformat_minor": 2
}
